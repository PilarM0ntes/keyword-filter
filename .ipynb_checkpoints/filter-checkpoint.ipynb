{
 "cells": [
  {
   "cell_type": "code",
   "execution_count": 1,
   "metadata": {},
   "outputs": [],
   "source": [
    "# Import Dependencies\n",
    "import pandas as pd\n",
    "import numpy as np\n",
    "import os"
   ]
  },
  {
   "cell_type": "code",
   "execution_count": 2,
   "metadata": {},
   "outputs": [],
   "source": [
    "# Get the fil names included in the Resources folder\n",
    "base_path= \"Resources/\"\n",
    "file_list = os.listdir(base_path)"
   ]
  },
  {
   "cell_type": "code",
   "execution_count": 6,
   "metadata": {},
   "outputs": [
    {
     "data": {
      "text/html": [
       "<div>\n",
       "<style scoped>\n",
       "    .dataframe tbody tr th:only-of-type {\n",
       "        vertical-align: middle;\n",
       "    }\n",
       "\n",
       "    .dataframe tbody tr th {\n",
       "        vertical-align: top;\n",
       "    }\n",
       "\n",
       "    .dataframe thead th {\n",
       "        text-align: right;\n",
       "    }\n",
       "</style>\n",
       "<table border=\"1\" class=\"dataframe\">\n",
       "  <thead>\n",
       "    <tr style=\"text-align: right;\">\n",
       "      <th></th>\n",
       "      <th>HTS Code</th>\n",
       "      <th>HTS Code Description</th>\n",
       "      <th>Custom</th>\n",
       "      <th>DUA</th>\n",
       "      <th>NroSerie</th>\n",
       "      <th>Date</th>\n",
       "      <th>Tax Id</th>\n",
       "      <th>Importer</th>\n",
       "      <th>Importer City</th>\n",
       "      <th>Importer Address</th>\n",
       "      <th>...</th>\n",
       "      <th>Qty 2</th>\n",
       "      <th>Unit 2</th>\n",
       "      <th>U$ FOB Tot</th>\n",
       "      <th>U$ FOB Unit 1</th>\n",
       "      <th>U$ FOB Unit 2</th>\n",
       "      <th>Origin Country</th>\n",
       "      <th>Acquisition Country</th>\n",
       "      <th>Via</th>\n",
       "      <th>Commercial Description</th>\n",
       "      <th>Regime</th>\n",
       "    </tr>\n",
       "  </thead>\n",
       "  <tbody>\n",
       "    <tr>\n",
       "      <th>0</th>\n",
       "      <td>32082001</td>\n",
       "      <td>PAINTS OR VARNISHES, EXCEPT AS INCLUDED IN FRA...</td>\n",
       "      <td>MEXICALI, MEXICALI, BAJA CALIFORNIA</td>\n",
       "      <td>20200925-MAUP920602H86-0004656</td>\n",
       "      <td>0</td>\n",
       "      <td>2020-09-25</td>\n",
       "      <td>MAUP920602H86</td>\n",
       "      <td>PEDRO ENRIQUE MARQUEZ ULLOA</td>\n",
       "      <td>San Luis Rio Colorado</td>\n",
       "      <td>AV. ZARAGOZA 412</td>\n",
       "      <td>...</td>\n",
       "      <td>165.0</td>\n",
       "      <td>PZA</td>\n",
       "      <td>1050.00</td>\n",
       "      <td>1.721</td>\n",
       "      <td>6.363</td>\n",
       "      <td>ESTADOS UNIDOS</td>\n",
       "      <td>ESTADOS UNIDOS</td>\n",
       "      <td>CARRETERO</td>\n",
       "      <td>PINTURA PLASTICA PARA LINEAS DE SENALAMIENTO VIAL</td>\n",
       "      <td>IMPORTACION O EXPORTACION DEFINITIVA.</td>\n",
       "    </tr>\n",
       "    <tr>\n",
       "      <th>1</th>\n",
       "      <td>39199099</td>\n",
       "      <td>OTHER PLATES, SHEETS, FILMS, SHEETS, TAPES, ST...</td>\n",
       "      <td>MEXICALI, MEXICALI, BAJA CALIFORNIA</td>\n",
       "      <td>20200930-USS000718PA0-0007708</td>\n",
       "      <td>0</td>\n",
       "      <td>2020-09-30</td>\n",
       "      <td>USS000718PA0</td>\n",
       "      <td>ULINE SHIPPING SUPPLIES S DE RL DE CV</td>\n",
       "      <td>Tijuana</td>\n",
       "      <td>ONCE/1106//CIUDAD INDUSTRIAL NUEVA TIJUANA//SE...</td>\n",
       "      <td>...</td>\n",
       "      <td>2.0</td>\n",
       "      <td>PZA</td>\n",
       "      <td>64.06</td>\n",
       "      <td>0.208</td>\n",
       "      <td>32.030</td>\n",
       "      <td>ESTADOS UNIDOS</td>\n",
       "      <td>ESTADOS UNIDOS</td>\n",
       "      <td>CARRETERO</td>\n",
       "      <td>SENALAMIENTO D.O.T. (EUA) - PG III, VINIL ADHE...</td>\n",
       "      <td>IMPORTACION O EXPORTACION DEFINITIVA.</td>\n",
       "    </tr>\n",
       "    <tr>\n",
       "      <th>2</th>\n",
       "      <td>39199099</td>\n",
       "      <td>OTHER PLATES, SHEETS, FILMS, SHEETS, TAPES, ST...</td>\n",
       "      <td>MEXICALI, MEXICALI, BAJA CALIFORNIA</td>\n",
       "      <td>20200914-USS000718PA0-0006952</td>\n",
       "      <td>0</td>\n",
       "      <td>2020-09-14</td>\n",
       "      <td>USS000718PA0</td>\n",
       "      <td>ULINE SHIPPING SUPPLIES S DE RL DE CV</td>\n",
       "      <td>Tijuana</td>\n",
       "      <td>ONCE/1106//CIUDAD INDUSTRIAL NUEVA TIJUANA//SE...</td>\n",
       "      <td>...</td>\n",
       "      <td>10.0</td>\n",
       "      <td>PZA</td>\n",
       "      <td>320.46</td>\n",
       "      <td>15.296</td>\n",
       "      <td>32.046</td>\n",
       "      <td>ESTADOS UNIDOS</td>\n",
       "      <td>ESTADOS UNIDOS</td>\n",
       "      <td>CARRETERO</td>\n",
       "      <td>SENALAMIENTO D.O.T. EUA NON FLAMMABLE GAS VINI...</td>\n",
       "      <td>IMPORTACION O EXPORTACION DEFINITIVA.</td>\n",
       "    </tr>\n",
       "    <tr>\n",
       "      <th>3</th>\n",
       "      <td>39199099</td>\n",
       "      <td>OTHER PLATES, SHEETS, FILMS, SHEETS, TAPES, ST...</td>\n",
       "      <td>MEXICALI, MEXICALI, BAJA CALIFORNIA</td>\n",
       "      <td>20200317-USS000718PA0-0004159</td>\n",
       "      <td>0</td>\n",
       "      <td>2020-03-17</td>\n",
       "      <td>USS000718PA0</td>\n",
       "      <td>ULINE SHIPPING SUPPLIES S DE RL DE CV</td>\n",
       "      <td>Tijuana</td>\n",
       "      <td>ONCE/1106//CIUDAD INDUSTRIAL NUEVA TIJUANA//SE...</td>\n",
       "      <td>...</td>\n",
       "      <td>3.0</td>\n",
       "      <td>PZA</td>\n",
       "      <td>0.00</td>\n",
       "      <td>0.000</td>\n",
       "      <td>0.000</td>\n",
       "      <td>ESTADOS UNIDOS</td>\n",
       "      <td>ESTADOS UNIDOS</td>\n",
       "      <td>CARRETERO</td>\n",
       "      <td>SENALAMIENTO D.O.T. DE 4 DIGITOS (EUA) - ONU 3...</td>\n",
       "      <td>IMPORTACION O EXPORTACION DEFINITIVA.</td>\n",
       "    </tr>\n",
       "    <tr>\n",
       "      <th>4</th>\n",
       "      <td>39199099</td>\n",
       "      <td>OTHER PLATES, SHEETS, FILMS, SHEETS, TAPES, ST...</td>\n",
       "      <td>MEXICALI, MEXICALI, BAJA CALIFORNIA</td>\n",
       "      <td>20200127-USS000718PA0-0001112</td>\n",
       "      <td>0</td>\n",
       "      <td>2020-01-27</td>\n",
       "      <td>USS000718PA0</td>\n",
       "      <td>ULINE SHIPPING SUPPLIES S DE RL DE CV</td>\n",
       "      <td>Tijuana</td>\n",
       "      <td>ONCE/1106//CIUDAD INDUSTRIAL NUEVA TIJUANA//SE...</td>\n",
       "      <td>...</td>\n",
       "      <td>2.0</td>\n",
       "      <td>PZA</td>\n",
       "      <td>54.62</td>\n",
       "      <td>13.289</td>\n",
       "      <td>27.310</td>\n",
       "      <td>ESTADOS UNIDOS</td>\n",
       "      <td>ESTADOS UNIDOS</td>\n",
       "      <td>CARRETERO.</td>\n",
       "      <td>SENALAMIENTO ADHESIVO DE VINIL S-2561V</td>\n",
       "      <td>RÃ‰GIMEN DEFINITIVO.</td>\n",
       "    </tr>\n",
       "  </tbody>\n",
       "</table>\n",
       "<p>5 rows × 26 columns</p>\n",
       "</div>"
      ],
      "text/plain": [
       "   HTS Code                               HTS Code Description  \\\n",
       "0  32082001  PAINTS OR VARNISHES, EXCEPT AS INCLUDED IN FRA...   \n",
       "1  39199099  OTHER PLATES, SHEETS, FILMS, SHEETS, TAPES, ST...   \n",
       "2  39199099  OTHER PLATES, SHEETS, FILMS, SHEETS, TAPES, ST...   \n",
       "3  39199099  OTHER PLATES, SHEETS, FILMS, SHEETS, TAPES, ST...   \n",
       "4  39199099  OTHER PLATES, SHEETS, FILMS, SHEETS, TAPES, ST...   \n",
       "\n",
       "                                Custom                             DUA  \\\n",
       "0  MEXICALI, MEXICALI, BAJA CALIFORNIA  20200925-MAUP920602H86-0004656   \n",
       "1  MEXICALI, MEXICALI, BAJA CALIFORNIA  20200930-USS000718PA0-0007708    \n",
       "2  MEXICALI, MEXICALI, BAJA CALIFORNIA  20200914-USS000718PA0-0006952    \n",
       "3  MEXICALI, MEXICALI, BAJA CALIFORNIA  20200317-USS000718PA0-0004159    \n",
       "4  MEXICALI, MEXICALI, BAJA CALIFORNIA  20200127-USS000718PA0-0001112    \n",
       "\n",
       "   NroSerie       Date           Tax Id  \\\n",
       "0         0 2020-09-25  MAUP920602H86     \n",
       "1         0 2020-09-30  USS000718PA0      \n",
       "2         0 2020-09-14  USS000718PA0      \n",
       "3         0 2020-03-17  USS000718PA0      \n",
       "4         0 2020-01-27  USS000718PA0      \n",
       "\n",
       "                                Importer          Importer City  \\\n",
       "0            PEDRO ENRIQUE MARQUEZ ULLOA  San Luis Rio Colorado   \n",
       "1  ULINE SHIPPING SUPPLIES S DE RL DE CV                Tijuana   \n",
       "2  ULINE SHIPPING SUPPLIES S DE RL DE CV                Tijuana   \n",
       "3  ULINE SHIPPING SUPPLIES S DE RL DE CV                Tijuana   \n",
       "4  ULINE SHIPPING SUPPLIES S DE RL DE CV                Tijuana   \n",
       "\n",
       "                                    Importer Address  ...  Qty 2 Unit 2  \\\n",
       "0                                   AV. ZARAGOZA 412  ...  165.0    PZA   \n",
       "1  ONCE/1106//CIUDAD INDUSTRIAL NUEVA TIJUANA//SE...  ...    2.0    PZA   \n",
       "2  ONCE/1106//CIUDAD INDUSTRIAL NUEVA TIJUANA//SE...  ...   10.0    PZA   \n",
       "3  ONCE/1106//CIUDAD INDUSTRIAL NUEVA TIJUANA//SE...  ...    3.0    PZA   \n",
       "4  ONCE/1106//CIUDAD INDUSTRIAL NUEVA TIJUANA//SE...  ...    2.0    PZA   \n",
       "\n",
       "  U$ FOB Tot U$ FOB Unit 1  U$ FOB Unit 2  Origin Country  \\\n",
       "0    1050.00         1.721          6.363  ESTADOS UNIDOS   \n",
       "1      64.06         0.208         32.030  ESTADOS UNIDOS   \n",
       "2     320.46        15.296         32.046  ESTADOS UNIDOS   \n",
       "3       0.00         0.000          0.000  ESTADOS UNIDOS   \n",
       "4      54.62        13.289         27.310  ESTADOS UNIDOS   \n",
       "\n",
       "   Acquisition Country         Via  \\\n",
       "0       ESTADOS UNIDOS   CARRETERO   \n",
       "1       ESTADOS UNIDOS   CARRETERO   \n",
       "2       ESTADOS UNIDOS   CARRETERO   \n",
       "3       ESTADOS UNIDOS   CARRETERO   \n",
       "4       ESTADOS UNIDOS  CARRETERO.   \n",
       "\n",
       "                              Commercial Description  \\\n",
       "0  PINTURA PLASTICA PARA LINEAS DE SENALAMIENTO VIAL   \n",
       "1  SENALAMIENTO D.O.T. (EUA) - PG III, VINIL ADHE...   \n",
       "2  SENALAMIENTO D.O.T. EUA NON FLAMMABLE GAS VINI...   \n",
       "3  SENALAMIENTO D.O.T. DE 4 DIGITOS (EUA) - ONU 3...   \n",
       "4             SENALAMIENTO ADHESIVO DE VINIL S-2561V   \n",
       "\n",
       "                                  Regime  \n",
       "0  IMPORTACION O EXPORTACION DEFINITIVA.  \n",
       "1  IMPORTACION O EXPORTACION DEFINITIVA.  \n",
       "2  IMPORTACION O EXPORTACION DEFINITIVA.  \n",
       "3  IMPORTACION O EXPORTACION DEFINITIVA.  \n",
       "4                   RÃ‰GIMEN DEFINITIVO.  \n",
       "\n",
       "[5 rows x 26 columns]"
      ]
     },
     "execution_count": 6,
     "metadata": {},
     "output_type": "execute_result"
    }
   ],
   "source": [
    "# Read the excel files\n",
    "reader_df = pd.read_excel(f'{base_path}/{file_list[0]}', encoding=\"latin-1\", header=5)\n",
    "reader_df.head()"
   ]
  },
  {
   "cell_type": "code",
   "execution_count": 32,
   "metadata": {},
   "outputs": [
    {
     "data": {
      "text/plain": [
       "DE                737.0\n",
       "SENALAMIENTO      726.0\n",
       "LAMPARA           348.0\n",
       "VEHICULAR         281.0\n",
       "PARA              201.0\n",
       "                  ...  \n",
       "ID:S-7252           1.0\n",
       "MELAMINA            1.0\n",
       "ESCRITORIO          1.0\n",
       "MADERA              1.0\n",
       "(SENALAMIENTOS      1.0\n",
       "Length: 380, dtype: float64"
      ]
     },
     "execution_count": 32,
     "metadata": {},
     "output_type": "execute_result"
    }
   ],
   "source": [
    "# Count the keywords \n",
    "word_count = reader_df['Commercial Description'].apply(lambda x: pd.value_counts(x.split(\" \"))).sum(axis = 0)\n",
    "word_count.sort_values(ascending=False, inplace=True)\n",
    "word_count"
   ]
  },
  {
   "cell_type": "code",
   "execution_count": 58,
   "metadata": {},
   "outputs": [
    {
     "data": {
      "text/plain": [
       "array(['SENALAMIENTO', 'LAMPARA', 'VEHICULAR', 'PLASTICO', 'LUMINOSO',\n",
       "       'VEHICULAR,', 'ARTICULOS', 'LAMPARAS', 'SENALAMIENTOS', 'USO',\n",
       "       'NP:', 'NAVES', '', 'AEREAS', 'AUTOMOTRIZ', 'MATERIAS', 'VINIL',\n",
       "       'ADHESIVO', 'LUCES', 'ARNES', '-', 'DIRECCIONALES', 'VISUAL',\n",
       "       'PLASTICAS,', 'OFICINA', 'TRIANGULOS', 'SU', 'SEGURIDAD', 'V',\n",
       "       'RECONOCIBLE', 'LUZ', 'D.O.T.', '1000', 'DIRECCIONAL', 'LUMINOSOS',\n",
       "       '(EUA)', 'INDICADORES', 'ESTUCHE', '35GK22', 'CUBIERTA', 'PISO',\n",
       "       'P/SENALAMIENTO', 'OFICINA,PORTA-SENALAMIENTOS', 'CONOS',\n",
       "       'AUTOMOTRIZ,', 'DIGITOS', 'ONU', 'PLASTICAS', '4',\n",
       "       'PORTA-SENALAMIENTOS,', 'MOJADO', 'MANUFACTURAS', 'INTERNACIONAL',\n",
       "       'LA', 'VIAL', 'METAL', 'SENALIZACION', 'PALANCA', 'N.O.S.,',\n",
       "       '3YTJ9', 'ILUMINADO)', 'ILUMINADO', 'SUBENSAMBLE', '(SENALAMIENTO'],\n",
       "      dtype=object)"
      ]
     },
     "execution_count": 58,
     "metadata": {},
     "output_type": "execute_result"
    }
   ],
   "source": [
    "# Remove prepositions: DE, PARA, CON\n",
    "search_limit = 5 #Search for the most common words\n",
    "\n",
    "rep = [{'index': index, 'count':word} for index, word in word_count.items() if word>search_limit]\n",
    "keywords = pd.DataFrame(rep)\n",
    "\n",
    "# Remove the prepositions\n",
    "\n",
    "keywords = keywords[(keywords['index'] != 'DE') & (keywords['index'] != 'PARA') & (keywords['index'] != 'CON')]\n",
    "keywords['index'].values"
   ]
  },
  {
   "cell_type": "code",
   "execution_count": 73,
   "metadata": {},
   "outputs": [
    {
     "data": {
      "text/plain": [
       "443"
      ]
     },
     "execution_count": 73,
     "metadata": {},
     "output_type": "execute_result"
    }
   ],
   "source": [
    "# Based on the keywords, filter by what stays and what stays out\n",
    "ok_keys = ['SENALAMIENTO', 'VEHICULAR']\n",
    "not_ok_keys = ['LAMPARA', 'TRIANGULOS']\n",
    "\n",
    "# Get rid of the not ok keys\n",
    "final_df = reader_df[~reader_df[\"Commercial Description\"].str.contains('|'.join(not_ok_keys),regex=True)]\n",
    "final_df[\"HTS Code\"].count()"
   ]
  },
  {
   "cell_type": "code",
   "execution_count": 70,
   "metadata": {},
   "outputs": [
    {
     "data": {
      "text/plain": [
       "False    461\n",
       "True     341\n",
       "Name: Commercial Description, dtype: int64"
      ]
     },
     "execution_count": 70,
     "metadata": {},
     "output_type": "execute_result"
    }
   ],
   "source": [
    "# Get the possible leads\n",
    "super_df = reader_df[reader_df[\"Commercial Description\"].str.contains('|'.join(ok_keys),regex=True)]\n",
    "# Save the results in a CSV file\n",
    "\n",
    "\n"
   ]
  },
  {
   "cell_type": "code",
   "execution_count": null,
   "metadata": {},
   "outputs": [],
   "source": []
  },
  {
   "cell_type": "code",
   "execution_count": null,
   "metadata": {},
   "outputs": [],
   "source": [
    "#reader_df[\"Commercial Description\"].str.contains('LAMPARA').value_counts()"
   ]
  }
 ],
 "metadata": {
  "kernelspec": {
   "display_name": "Python [conda env:pythonData]",
   "language": "python",
   "name": "conda-env-pythonData-py"
  },
  "language_info": {
   "codemirror_mode": {
    "name": "ipython",
    "version": 3
   },
   "file_extension": ".py",
   "mimetype": "text/x-python",
   "name": "python",
   "nbconvert_exporter": "python",
   "pygments_lexer": "ipython3",
   "version": "3.6.10"
  }
 },
 "nbformat": 4,
 "nbformat_minor": 4
}
